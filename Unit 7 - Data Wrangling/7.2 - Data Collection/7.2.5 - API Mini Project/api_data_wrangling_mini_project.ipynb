{
 "cells": [
  {
   "cell_type": "markdown",
   "metadata": {},
   "source": [
    "This exercise will require you to pull some data from https://data.nasdaq.com/ (formerly Quandl API)."
   ]
  },
  {
   "cell_type": "markdown",
   "metadata": {},
   "source": [
    "As a first step, you will need to register a free account on the https://data.nasdaq.com/ website."
   ]
  },
  {
   "cell_type": "markdown",
   "metadata": {},
   "source": [
    "After you register, you will be provided with a unique API key, that you should store:\n",
    "\n",
    "*Note*: Use a `.env` file and put your key in there and `python-dotenv` to access it in this notebook. \n",
    "\n",
    "The code below uses a key that was used when generating this project but has since been deleted. Never submit your keys to source control. There is a `.env-example` file in this repository to illusrtate what you need. Copy that to a file called `.env` and use your own api key in that `.env` file. Make sure you also have a `.gitignore` file with a line for `.env` added to it. \n",
    "\n",
    "The standard Python gitignore is [here](https://github.com/github/gitignore/blob/master/Python.gitignore) you can just copy that. "
   ]
  },
  {
   "cell_type": "code",
   "execution_count": 1,
   "metadata": {},
   "outputs": [],
   "source": [
    "# get api key from your .env file\n",
    "import os\n",
    "from dotenv import load_dotenv\n",
    "\n",
    "load_dotenv()\n",
    "API_KEY = os.getenv('NASDAQ_API_KEY')\n",
    "\n",
    "# print(API_KEY)"
   ]
  },
  {
   "cell_type": "markdown",
   "metadata": {},
   "source": [
    "Nasdaq Data has a large number of data sources, but, unfortunately, most of them require a Premium subscription. Still, there are also a good number of free datasets."
   ]
  },
  {
   "cell_type": "markdown",
   "metadata": {},
   "source": [
    "For this mini project, we will focus on equities data from the Frankfurt Stock Exhange (FSE), which is available for free. We'll try and analyze the stock prices of a company called Carl Zeiss Meditec, which manufactures tools for eye examinations, as well as medical lasers for laser eye surgery: https://www.zeiss.com/meditec/int/home.html. The company is listed under the stock ticker AFX_X."
   ]
  },
  {
   "cell_type": "markdown",
   "metadata": {},
   "source": [
    "You can find the detailed Nasdaq Data API instructions here: https://docs.data.nasdaq.com/docs/in-depth-usage"
   ]
  },
  {
   "cell_type": "markdown",
   "metadata": {},
   "source": [
    "While there is a dedicated Python package for connecting to the Nasdaq API, we would prefer that you use the *requests* package, which can be easily downloaded using *pip* or *conda*. You can find the documentation for the package here: http://docs.python-requests.org/en/master/ "
   ]
  },
  {
   "cell_type": "markdown",
   "metadata": {},
   "source": [
    "Finally, apart from the *requests* package, you are encouraged to not use any third party Python packages, such as *pandas*, and instead focus on what's available in the Python Standard Library (the *collections* module might come in handy: https://pymotw.com/3/collections/).\n",
    "Also, since you won't have access to DataFrames, you are encouraged to us Python's native data structures - preferably dictionaries, though some questions can also be answered using lists.\n",
    "You can read more on these data structures here: https://docs.python.org/3/tutorial/datastructures.html"
   ]
  },
  {
   "cell_type": "markdown",
   "metadata": {},
   "source": [
    "Keep in mind that the JSON responses you will be getting from the API map almost one-to-one to Python's dictionaries. Unfortunately, they can be very nested, so make sure you read up on indexing dictionaries in the documentation provided above."
   ]
  },
  {
   "cell_type": "code",
   "execution_count": 2,
   "metadata": {},
   "outputs": [],
   "source": [
    "# First, import the relevant modules\n",
    "import requests\n",
    "import json\n",
    "import statistics"
   ]
  },
  {
   "cell_type": "markdown",
   "metadata": {},
   "source": [
    "Note: API's can change a bit with each version, for this exercise it is reccomended to use the nasdaq api at `https://data.nasdaq.com/api/v3/`. This is the same api as what used to be quandl so `https://www.quandl.com/api/v3/` should work too.\n",
    "\n",
    "Hint: We are looking for the `AFX_X` data on the `datasets/FSE/` dataset."
   ]
  },
  {
   "cell_type": "code",
   "execution_count": 3,
   "metadata": {},
   "outputs": [
    {
     "name": "stdout",
     "output_type": "stream",
     "text": [
      "200\n",
      "{'Access-Control-Allow-Credentials': 'true', 'Access-Control-Allow-Headers': '*', 'Access-Control-Allow-Methods': 'GET, POST, OPTIONS', 'Access-Control-Allow-Origin': '*', 'Access-Control-Expose-Headers': 'X-RateLimit-Limit, X-RateLimit-Remaining', 'Access-Control-Max-Age': '1728000', 'Allow': 'GET, HEAD, POST, PUT, DELETE, OPTIONS, PATCH', 'Cache-Control': 'no-store', 'Content-Encoding': 'gzip', 'Content-Security-Policy': \"frame-ancestors 'self';\", 'Content-Type': 'application/json; charset=utf-8', 'Date': 'Thu, 17 Feb 2022 01:07:47 GMT', 'ETag': 'W/\"714b52d41e99bdc9e6fb4babbeca9c77\"', 'Pragma': 'no-cache', 'Referrer-Policy': 'origin-when-cross-origin', 'Server': 'openresty', 'Strict-Transport-Security': 'max-age=31536000; includeSubDomains; preload', 'X-Content-Type-Options': 'nosniff', 'X-Frame-Options': 'SAMEORIGIN', 'X-RateLimit-Limit': '50000', 'X-RateLimit-Remaining': '49949', 'X-Request-Id': '458ffc38-6e5c-464a-be1d-c5ea9b70a886', 'X-Runtime': '0.135942', 'X-XSS-Protection': '1; mode=block', 'Content-Length': '507', 'Connection': 'keep-alive', 'Set-Cookie': 'visid_incap_2170999=akuRNquCQTmreN1cvIV0OOOfDWIAAAAAQUIPAAAAAABmeW+iOy4NO2P2u6ttrAr1; expires=Thu, 16 Feb 2023 04:26:27 GMT; HttpOnly; path=/; Domain=.nasdaq.com, nlbi_2170999=25LCDTQK1TED9YALKj7S7QAAAADip3vSv0dfL39VdwEiwVOq; path=/; Domain=.nasdaq.com, incap_ses_9219_2170999=oWthQYT7zGZr5PQD/nfwf+OfDWIAAAAAavKAnpzTkMpuIj1OBWyZLg==; path=/; Domain=.nasdaq.com', 'X-CDN': 'Imperva', 'X-Iinfo': '12-94403391-94403437 NNNN CT(25 53 0) RT(1645060067187 97) q(0 0 1 0) r(3 3) U2'}\n",
      "{\"dataset\":{\"id\":10095370,\"dataset_code\":\"AFX_X\",\"database_code\":\"FSE\",\"name\":\"Carl Zeiss Meditec (AFX_X)\",\"description\":\"Stock Prices for Carl Zeiss Meditec (2020-11-02) from the Frankfurt Stock Exchange.\\u003cbr\\u003e\\u003cbr\\u003eTrading System: Xetra\\u003cbr\\u003e\\u003cbr\\u003eISIN: DE0005313704\",\"refreshed_at\":\"2020-12-01T14:48:09.907Z\",\"newest_available_date\":\"2020-12-01\",\"oldest_available_date\":\"2000-06-07\",\"column_names\":[\"Date\",\"Open\",\"High\",\"Low\",\"Close\",\"Change\",\"Traded Volume\",\"Turnover\",\"Last Price of the Day\",\"Daily Traded Units\",\"Daily Turnover\"],\"frequency\":\"daily\",\"type\":\"Time Series\",\"premium\":false,\"limit\":null,\"transform\":null,\"column_index\":null,\"start_date\":\"2020-01-02\",\"end_date\":\"2020-01-02\",\"data\":[[\"2020-01-02\",114.0,114.9,112.7,113.8,null,143464.0,16291666.0,null,null,null]],\"collapse\":null,\"order\":null,\"database_id\":6129}}\n"
     ]
    }
   ],
   "source": [
    "# Now, call the Nasdaq API and pull out a small sample of the data (only one day) to get a glimpse\n",
    "# into the JSON structure that will be returned\n",
    "\n",
    "url_prefix = 'https://data.nasdaq.com/api/v3/datasets/'\n",
    "database_code = 'FSE'\n",
    "dataset_code = 'AFX_X'\n",
    "start_date = '2020-01-02'\n",
    "end_date = '2020-01-02'\n",
    "\n",
    "url = url_prefix + database_code + '/' + dataset_code\n",
    "params = dict(api_key=API_KEY, start_date=start_date, end_date=end_date)\n",
    "r = requests.get(url, params=params)\n",
    "print(r.status_code)\n",
    "print(r.headers)\n",
    "print(r.text)"
   ]
  },
  {
   "cell_type": "code",
   "execution_count": 4,
   "metadata": {},
   "outputs": [
    {
     "name": "stdout",
     "output_type": "stream",
     "text": [
      "{\n",
      "  \"dataset\": {\n",
      "    \"id\": 10095370,\n",
      "    \"dataset_code\": \"AFX_X\",\n",
      "    \"database_code\": \"FSE\",\n",
      "    \"name\": \"Carl Zeiss Meditec (AFX_X)\",\n",
      "    \"description\": \"Stock Prices for Carl Zeiss Meditec (2020-11-02) from the Frankfurt Stock Exchange.<br><br>Trading System: Xetra<br><br>ISIN: DE0005313704\",\n",
      "    \"refreshed_at\": \"2020-12-01T14:48:09.907Z\",\n",
      "    \"newest_available_date\": \"2020-12-01\",\n",
      "    \"oldest_available_date\": \"2000-06-07\",\n",
      "    \"column_names\": [\n",
      "      \"Date\",\n",
      "      \"Open\",\n",
      "      \"High\",\n",
      "      \"Low\",\n",
      "      \"Close\",\n",
      "      \"Change\",\n",
      "      \"Traded Volume\",\n",
      "      \"Turnover\",\n",
      "      \"Last Price of the Day\",\n",
      "      \"Daily Traded Units\",\n",
      "      \"Daily Turnover\"\n",
      "    ],\n",
      "    \"frequency\": \"daily\",\n",
      "    \"type\": \"Time Series\",\n",
      "    \"premium\": false,\n",
      "    \"limit\": null,\n",
      "    \"transform\": null,\n",
      "    \"column_index\": null,\n",
      "    \"start_date\": \"2020-01-02\",\n",
      "    \"end_date\": \"2020-01-02\",\n",
      "    \"data\": [\n",
      "      [\n",
      "        \"2020-01-02\",\n",
      "        114.0,\n",
      "        114.9,\n",
      "        112.7,\n",
      "        113.8,\n",
      "        null,\n",
      "        143464.0,\n",
      "        16291666.0,\n",
      "        null,\n",
      "        null,\n",
      "        null\n",
      "      ]\n",
      "    ],\n",
      "    \"collapse\": null,\n",
      "    \"order\": null,\n",
      "    \"database_id\": 6129\n",
      "  }\n",
      "}\n"
     ]
    }
   ],
   "source": [
    "# Inspect the JSON structure of the object you created, and take note of how nested it is,\n",
    "# as well as the overall structure\n",
    "\n",
    "r_json = r.json()\n",
    "print(json.dumps(r_json, indent=2))"
   ]
  },
  {
   "cell_type": "markdown",
   "metadata": {},
   "source": [
    "These are your tasks for this mini project:\n",
    "\n",
    "1. Collect data from the Franfurt Stock Exchange, for the ticker AFX_X, for the whole year 2017 (keep in mind that the date format is YYYY-MM-DD).\n",
    "2. Convert the returned JSON object into a Python dictionary.\n",
    "3. Calculate what the highest and lowest opening prices were for the stock in this period.\n",
    "4. What was the largest change in any one day (based on High and Low price)?\n",
    "5. What was the largest change between any two days (based on Closing Price)?\n",
    "6. What was the average daily trading volume during this year?\n",
    "7. (Optional) What was the median trading volume during this year. (Note: you may need to implement your own function for calculating the median.)"
   ]
  },
  {
   "cell_type": "code",
   "execution_count": 5,
   "metadata": {},
   "outputs": [
    {
     "name": "stdout",
     "output_type": "stream",
     "text": [
      "Response OK\n"
     ]
    }
   ],
   "source": [
    "# Function to query Nasdaq API\n",
    "\n",
    "def nasdaq_result(database_code, dataset_code, start_date, end_date):\n",
    "    url_prefix = 'https://data.nasdaq.com/api/v3/datasets/'\n",
    "    url = url_prefix + database_code + '/' + dataset_code\n",
    "    params = dict(api_key=API_KEY, start_date=start_date, end_date=end_date)\n",
    "    r = requests.get(url, params=params)\n",
    "    if r:\n",
    "        print('Response OK')\n",
    "    else:\n",
    "        print('Response Failed')\n",
    "    return r\n",
    "\n",
    "# 1. Collect data from the Franfurt Stock Exchange, for the ticker AFX_X, for the whole year 2017\n",
    "\n",
    "database_code = 'FSE'\n",
    "dataset_code = 'AFX_X'\n",
    "start_date = '2017-01-01'\n",
    "end_date = '2017-12-31'\n",
    "\n",
    "rs = nasdaq_result(database_code, dataset_code, start_date, end_date)"
   ]
  },
  {
   "cell_type": "code",
   "execution_count": 6,
   "metadata": {},
   "outputs": [
    {
     "name": "stdout",
     "output_type": "stream",
     "text": [
      "<class 'dict'>\n"
     ]
    }
   ],
   "source": [
    "# 2. Convert returned JSON object to Python dictionary\n",
    "\n",
    "rs_json = rs.json()\n",
    "print(type(rs_json))\n",
    "# print(rs_json)"
   ]
  },
  {
   "cell_type": "code",
   "execution_count": 7,
   "metadata": {},
   "outputs": [
    {
     "name": "stdout",
     "output_type": "stream",
     "text": [
      "<class 'dict'>\n"
     ]
    }
   ],
   "source": [
    "# Create dictionary of date keys and nested dictionary of price values\n",
    "date_prices = rs_json['dataset']['data']\n",
    "date_prices.sort()\n",
    "\n",
    "price_dict = {}\n",
    "for d in date_prices:\n",
    "    price_dict[d[0]] = {'Open':d[1], 'High':d[2], 'Low':d[3], 'Close':d[4], 'Traded Volume': d[6]}\n",
    "print(type(price_dict))"
   ]
  },
  {
   "cell_type": "code",
   "execution_count": 8,
   "metadata": {},
   "outputs": [
    {
     "name": "stdout",
     "output_type": "stream",
     "text": [
      "The highest opening price was: 53.11\n",
      "The lowest opening price was:  34.00\n"
     ]
    }
   ],
   "source": [
    "# 3. Calculate what the highest and lowest opening prices were for the stock in this period.\n",
    "max_open = max(float(p['Open']) for p in price_dict.values() if(p['Open'] is not None))\n",
    "min_open = min(float(p['Open']) for p in price_dict.values() if(p['Open'] is not None))\n",
    "print('The highest opening price was: ' + str(\"{:.2f}\".format(max_open)))\n",
    "print('The lowest opening price was:  ' + str(\"{:.2f}\".format(min_open)))"
   ]
  },
  {
   "cell_type": "code",
   "execution_count": 9,
   "metadata": {},
   "outputs": [
    {
     "name": "stdout",
     "output_type": "stream",
     "text": [
      "The largest price change in any one day was: 2.81\n"
     ]
    }
   ],
   "source": [
    "# 4. What was the largest change in any one day (based on High and Low price)?\n",
    "max_intraday_change = max(float(p['High']) - float(p['Low']) for p in price_dict.values() if(p['High'] is not None) and (p['Low'] is not None))\n",
    "print('The largest price change in any one day was: ' + str(\"{:.2f}\".format(max_intraday_change)))"
   ]
  },
  {
   "cell_type": "code",
   "execution_count": 10,
   "metadata": {},
   "outputs": [
    {
     "name": "stdout",
     "output_type": "stream",
     "text": [
      "The largest price change between any two days was: 2.56\n"
     ]
    }
   ],
   "source": [
    "# 5. What was the largest change between any two days (based on Closing Price)?\n",
    "# initialize\n",
    "prior_day_close = None\n",
    "max_change = 0.00\n",
    "\n",
    "for p in sorted(price_dict):\n",
    "    current_close = price_dict[p]['Close']\n",
    "    if prior_day_close is None: prior_day_close = current_close\n",
    "    interday_change = abs(current_close - prior_day_close)\n",
    "    if max_change < interday_change: max_change = interday_change\n",
    "    prior_day_close = current_close\n",
    "    \n",
    "print('The largest price change between any two days was: ' + str(\"{:.2f}\".format(max_change)))"
   ]
  },
  {
   "cell_type": "code",
   "execution_count": 11,
   "metadata": {},
   "outputs": [
    {
     "name": "stdout",
     "output_type": "stream",
     "text": [
      "The average daily trading volume was: 89124.34\n"
     ]
    }
   ],
   "source": [
    "# 6. What was the average daily trading volume during this year? (using statistics package)\n",
    "avg_trade_vol = statistics.mean(float(p['Traded Volume']) for p in price_dict.values() if(p['Traded Volume'] is not None))\n",
    "print('The average daily trading volume was: ' + str(\"{:.2f}\".format(avg_trade_vol)))"
   ]
  },
  {
   "cell_type": "code",
   "execution_count": 12,
   "metadata": {},
   "outputs": [
    {
     "name": "stdout",
     "output_type": "stream",
     "text": [
      "The average daily trading volume was: 89124.34\n"
     ]
    }
   ],
   "source": [
    "# 6. What was the average daily trading volume during this year? (not using statitics package)\n",
    "sum_trade_vol = 0.00\n",
    "cnt_trade_vol = 0.00\n",
    "\n",
    "for p in price_dict.values(): \n",
    "    if p['Traded Volume'] is not None:\n",
    "        sum_trade_vol += float(p['Traded Volume'])\n",
    "        cnt_trade_vol += 1\n",
    "\n",
    "print('The average daily trading volume was: ' + str(\"{:.2f}\".format(sum_trade_vol / cnt_trade_vol)))"
   ]
  },
  {
   "cell_type": "code",
   "execution_count": 14,
   "metadata": {},
   "outputs": [
    {
     "name": "stdout",
     "output_type": "stream",
     "text": [
      "The median daily trading volume was: 76286.00\n"
     ]
    }
   ],
   "source": [
    "# 7. (Optional) What was the median trading volume during this year. (using statistics package)\n",
    "med_trade_vol = statistics.median(float(p['Traded Volume']) for p in price_dict.values() if(p['Traded Volume'] is not None))\n",
    "print('The median daily trading volume was: ' + str(\"{:.2f}\".format(med_trade_vol)))"
   ]
  },
  {
   "cell_type": "code",
   "execution_count": 15,
   "metadata": {},
   "outputs": [
    {
     "name": "stdout",
     "output_type": "stream",
     "text": [
      "The median daily trading volume was: 76286.00\n"
     ]
    }
   ],
   "source": [
    "# 7. (Optional) What was the median trading volume during this year. (not using statistics package)\n",
    "\n",
    "def calc_median(in_list):\n",
    "    in_list.sort()\n",
    "    n = len(in_list)\n",
    "    if n % 2 == 0:\n",
    "        median1 = in_list[n//2]\n",
    "        median2 = in_list[n//2 - 1]\n",
    "        median = (median1 + median2) / 2\n",
    "    else:\n",
    "        median = in_list[n//2]\n",
    "    return median\n",
    "    \n",
    "trade_vols = [p['Traded Volume'] for p in price_dict.values()]\n",
    "median_trade_vol = calc_median(trade_vols)\n",
    "print('The median daily trading volume was: ' + str(\"{:.2f}\".format(median_trade_vol)))"
   ]
  }
 ],
 "metadata": {
  "interpreter": {
   "hash": "7635eb1b9d0fe97add78a7368b6b431c09bb8ad5c42e437d64abdd99821c31ae"
  },
  "kernelspec": {
   "display_name": "Python 3 (ipykernel)",
   "language": "python",
   "name": "python3"
  },
  "language_info": {
   "codemirror_mode": {
    "name": "ipython",
    "version": 3
   },
   "file_extension": ".py",
   "mimetype": "text/x-python",
   "name": "python",
   "nbconvert_exporter": "python",
   "pygments_lexer": "ipython3",
   "version": "3.9.7"
  }
 },
 "nbformat": 4,
 "nbformat_minor": 4
}
